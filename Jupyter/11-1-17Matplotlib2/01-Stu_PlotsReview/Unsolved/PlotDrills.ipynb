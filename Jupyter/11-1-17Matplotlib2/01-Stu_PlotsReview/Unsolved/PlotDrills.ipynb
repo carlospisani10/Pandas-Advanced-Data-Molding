{
 "cells": [
  {
   "cell_type": "code",
   "execution_count": 1,
   "metadata": {
    "collapsed": true
   },
   "outputs": [],
   "source": [
    "# Import Dependencies\n",
    "import numpy as np\n",
    "import matplotlib.pyplot as plt"
   ]
  },
  {
   "cell_type": "code",
   "execution_count": 6,
   "metadata": {
    "collapsed": true
   },
   "outputs": [],
   "source": [
    "# DATASET 1\n",
    "gyms = [\"Crunch\", \"Planet Fitness\", \"NY Sports Club\", \"Rickie's Gym\"]\n",
    "members = [49, 92, 84, 53]\n",
    "x_axis = np.arange(0, len(members), 1)"
   ]
  },
  {
   "cell_type": "code",
   "execution_count": 7,
   "metadata": {},
   "outputs": [
    {
     "data": {
      "text/plain": [
       "<Container object of 4 artists>"
      ]
     },
     "execution_count": 7,
     "metadata": {},
     "output_type": "execute_result"
    }
   ],
   "source": [
    "# Create a bar chart based upon the above data\n",
    "plt.bar(x_axis, members, color='b', alpha=0.5, align=\"edge\")"
   ]
  },
  {
   "cell_type": "code",
   "execution_count": 8,
   "metadata": {},
   "outputs": [
    {
     "data": {
      "text/plain": [
       "([<matplotlib.axis.XTick at 0x1ab848d9be0>,\n",
       "  <matplotlib.axis.XTick at 0x1ab8760f080>,\n",
       "  <matplotlib.axis.XTick at 0x1ab87619128>,\n",
       "  <matplotlib.axis.XTick at 0x1ab87df2a20>],\n",
       " <a list of 4 Text xticklabel objects>)"
      ]
     },
     "execution_count": 8,
     "metadata": {},
     "output_type": "execute_result"
    }
   ],
   "source": [
    "# Create the ticks for our bar chart's x axis\n",
    "tick_locations = [value+0.4 for value in x_axis]\n",
    "plt.xticks(x_axis, [\"Crunch\", \"Planet Fitness\", \"NY Sports Club\", \"Rickie's Gym\"])"
   ]
  },
  {
   "cell_type": "code",
   "execution_count": null,
   "metadata": {
    "collapsed": true
   },
   "outputs": [],
   "source": [
    "plit.title(\"NYC Gym Popularity\")"
   ]
  },
  {
   "cell_type": "code",
   "execution_count": 7,
   "metadata": {
    "collapsed": true
   },
   "outputs": [],
   "source": [
    "# DATASET 2\n",
    "x_lim = 2 * np.pi\n",
    "x_axis = np.arange(0, x_lim, 0.1)\n",
    "sin = np.sin(x_axis)"
   ]
  },
  {
   "cell_type": "code",
   "execution_count": null,
   "metadata": {
    "collapsed": true
   },
   "outputs": [],
   "source": []
  },
  {
   "cell_type": "code",
   "execution_count": 8,
   "metadata": {
    "collapsed": true
   },
   "outputs": [],
   "source": [
    "# DATASET 3\n",
    "planet_fitness_ages = [\"18-25\", \"26-33\", \"34-41\", \"42+\"]\n",
    "members = [31, 27, 18, 16]\n",
    "x_axis = np.arange(0, len(planet_fitness_ages))\n",
    "colors = [\"yellowgreen\", \"red\", \"lightcoral\", \"lightskyblue\"]\n",
    "explode = (0.05, 0, 0, 0)"
   ]
  },
  {
   "cell_type": "code",
   "execution_count": null,
   "metadata": {
    "collapsed": true
   },
   "outputs": [],
   "source": []
  },
  {
   "cell_type": "code",
   "execution_count": 9,
   "metadata": {
    "collapsed": true
   },
   "outputs": [],
   "source": [
    "# DATASET 4\n",
    "sq_ft = [929, 1000, 693, 1320, 821, 925, 750]\n",
    "house_price = [285000, 300000, 250000, 315000, 275000, 280000, 260000]"
   ]
  },
  {
   "cell_type": "code",
   "execution_count": null,
   "metadata": {
    "collapsed": true
   },
   "outputs": [],
   "source": []
  },
  {
   "cell_type": "code",
   "execution_count": null,
   "metadata": {
    "collapsed": true
   },
   "outputs": [],
   "source": []
  }
 ],
 "metadata": {
  "kernelspec": {
   "display_name": "Python 3",
   "language": "python",
   "name": "python3"
  },
  "language_info": {
   "codemirror_mode": {
    "name": "ipython",
    "version": 3
   },
   "file_extension": ".py",
   "mimetype": "text/x-python",
   "name": "python",
   "nbconvert_exporter": "python",
   "pygments_lexer": "ipython3",
   "version": "3.6.2"
  }
 },
 "nbformat": 4,
 "nbformat_minor": 2
}
