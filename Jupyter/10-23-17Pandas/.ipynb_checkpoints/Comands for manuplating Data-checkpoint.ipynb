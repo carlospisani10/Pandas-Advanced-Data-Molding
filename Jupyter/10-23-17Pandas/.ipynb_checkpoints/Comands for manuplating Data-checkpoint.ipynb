{
 "cells": [
  {
   "cell_type": "code",
   "execution_count": null,
   "metadata": {
    "collapsed": true
   },
   "outputs": [],
   "source": [
    "#Displays the summary of numerical data\n",
    "data_file_pd.describe()"
   ]
  },
  {
   "cell_type": "code",
   "execution_count": null,
   "metadata": {
    "collapsed": true
   },
   "outputs": [],
   "source": [
    "#Reference a single column within a Data Frame\n",
    "data_file_pd[\"Name-of-column\"]\n",
    "data_file_pd[[\"Header\",\"Header2\"]]"
   ]
  },
  {
   "cell_type": "code",
   "execution_count": null,
   "metadata": {
    "collapsed": true
   },
   "outputs": [],
   "source": [
    "#THe mean method averages the series\n",
    "average = data_file.pd[\"Amount'].mean()\n",
    "average\n",
    "                       "
   ]
  },
  {
   "cell_type": "code",
   "execution_count": null,
   "metadata": {
    "collapsed": true
   },
   "outputs": [],
   "source": [
    "thousands_of_dollars = data_file_pd[\"Amount\"] / 1000\n",
    "print(thousands_of_dollars)\n",
    "\n",
    "data_file_pd[\"Name of Column\"] = *variable name* thousands_of_dollars\n",
    "\n",
    "data_file_pd.head()"
   ]
  }
 ],
 "metadata": {
  "kernelspec": {
   "display_name": "Python 3",
   "language": "python",
   "name": "python3"
  },
  "language_info": {
   "codemirror_mode": {
    "name": "ipython",
    "version": 3
   },
   "file_extension": ".py",
   "mimetype": "text/x-python",
   "name": "python",
   "nbconvert_exporter": "python",
   "pygments_lexer": "ipython3",
   "version": "3.6.2"
  }
 },
 "nbformat": 4,
 "nbformat_minor": 2
}
