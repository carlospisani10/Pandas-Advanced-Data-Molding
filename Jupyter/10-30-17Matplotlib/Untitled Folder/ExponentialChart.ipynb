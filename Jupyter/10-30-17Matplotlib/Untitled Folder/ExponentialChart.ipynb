{
 "cells": [
  {
   "cell_type": "code",
   "execution_count": 1,
   "metadata": {
    "collapsed": true
   },
   "outputs": [],
   "source": [
    "# Import Numpy for calculations and matplotlib for charting\n",
    "import numpy as np\n",
    "import matplotlib.pyplot as plt"
   ]
  },
  {
   "cell_type": "code",
   "execution_count": 2,
   "metadata": {},
   "outputs": [
    {
     "data": {
      "text/plain": [
       "array([ 0. ,  0.1,  0.2,  0.3,  0.4,  0.5,  0.6,  0.7,  0.8,  0.9,  1. ,\n",
       "        1.1,  1.2,  1.3,  1.4,  1.5,  1.6,  1.7,  1.8,  1.9,  2. ,  2.1,\n",
       "        2.2,  2.3,  2.4,  2.5,  2.6,  2.7,  2.8,  2.9,  3. ,  3.1,  3.2,\n",
       "        3.3,  3.4,  3.5,  3.6,  3.7,  3.8,  3.9,  4. ,  4.1,  4.2,  4.3,\n",
       "        4.4,  4.5,  4.6,  4.7,  4.8,  4.9])"
      ]
     },
     "execution_count": 2,
     "metadata": {},
     "output_type": "execute_result"
    }
   ],
   "source": [
    "# Creates a list from 0 to 10 with each step being 0.1 higher than the last\n",
    "x_values = np.arange(0, 5, 0.1)\n",
    "x_values"
   ]
  },
  {
   "cell_type": "code",
   "execution_count": 3,
   "metadata": {},
   "outputs": [
    {
     "data": {
      "text/plain": [
       "[1.0,\n",
       " 1.1051709180756477,\n",
       " 1.2214027581601699,\n",
       " 1.3498588075760032,\n",
       " 1.4918246976412703,\n",
       " 1.6487212707001282,\n",
       " 1.8221188003905091,\n",
       " 2.0137527074704766,\n",
       " 2.2255409284924679,\n",
       " 2.4596031111569499,\n",
       " 2.7182818284590451,\n",
       " 3.0041660239464334,\n",
       " 3.3201169227365481,\n",
       " 3.6692966676192444,\n",
       " 4.0551999668446754,\n",
       " 4.4816890703380645,\n",
       " 4.9530324243951149,\n",
       " 5.4739473917272008,\n",
       " 6.0496474644129465,\n",
       " 6.6858944422792703,\n",
       " 7.3890560989306504,\n",
       " 8.1661699125676517,\n",
       " 9.025013499434122,\n",
       " 9.9741824548147235,\n",
       " 11.023176380641605,\n",
       " 12.182493960703473,\n",
       " 13.463738035001692,\n",
       " 14.879731724872837,\n",
       " 16.444646771097055,\n",
       " 18.174145369443067,\n",
       " 20.085536923187668,\n",
       " 22.197951281441636,\n",
       " 24.532530197109352,\n",
       " 27.112638920657893,\n",
       " 29.964100047397025,\n",
       " 33.115451958692312,\n",
       " 36.598234443677988,\n",
       " 40.447304360067399,\n",
       " 44.701184493300836,\n",
       " 49.402449105530188,\n",
       " 54.598150033144236,\n",
       " 60.340287597362,\n",
       " 66.686331040925154,\n",
       " 73.699793699595787,\n",
       " 81.450868664968141,\n",
       " 90.017131300521811,\n",
       " 99.484315641933861,\n",
       " 109.94717245212352,\n",
       " 121.51041751873497,\n",
       " 134.28977968493552]"
      ]
     },
     "execution_count": 3,
     "metadata": {},
     "output_type": "execute_result"
    }
   ],
   "source": [
    "# Creates an exponential series of values which we can then chart\n",
    "e_x = [np.exp(x) for x in x_values]\n",
    "e_x"
   ]
  },
  {
   "cell_type": "code",
   "execution_count": 4,
   "metadata": {},
   "outputs": [
    {
     "data": {
      "text/plain": [
       "[<matplotlib.lines.Line2D at 0x10f387f28>]"
      ]
     },
     "execution_count": 4,
     "metadata": {},
     "output_type": "execute_result"
    }
   ],
   "source": [
    "# Create a graph based upon the two lists we have created\n",
    "plt.plot(x_values, e_x)"
   ]
  },
  {
   "cell_type": "code",
   "execution_count": 5,
   "metadata": {},
   "outputs": [
    {
     "data": {
      "image/png": "[encoded data removed]",
      "text/plain": [
       "<matplotlib.figure.Figure at 0x10f3a16a0>"
      ]
     },
     "metadata": {},
     "output_type": "display_data"
    }
   ],
   "source": [
    "# Show the graph that we have created\n",
    "plt.show()"
   ]
  },
  {
   "cell_type": "code",
   "execution_count": 6,
   "metadata": {
    "collapsed": true
   },
   "outputs": [],
   "source": [
    "plt.show()"
   ]
  },
  {
   "cell_type": "code",
   "execution_count": 7,
   "metadata": {},
   "outputs": [
    {
     "data": {
      "image/png": "[encoded data removed]",
      "text/plain": [
       "<matplotlib.figure.Figure at 0x11794f2b0>"
      ]
     },
     "metadata": {},
     "output_type": "display_data"
    }
   ],
   "source": [
    "# Have to plot our chart once again as it doesn't stick after being shown\n",
    "plt.plot(x_values, e_x)\n",
    "\n",
    "# Give our graph axis labels\n",
    "plt.xlabel(\"Time With MatPlotLib\")\n",
    "plt.ylabel(\"How Cool MatPlotLib Seems\")\n",
    "\n",
    "plt.show()"
   ]
  },
  {
   "cell_type": "code",
   "execution_count": 8,
   "metadata": {
    "collapsed": true
   },
   "outputs": [],
   "source": [
    "plt.show()"
   ]
  },
  {
   "cell_type": "code",
   "execution_count": null,
   "metadata": {
    "collapsed": true
   },
   "outputs": [],
   "source": []
  }
 ],
 "metadata": {
  "anaconda-cloud": {},
  "kernelspec": {
   "display_name": "Python 3",
   "language": "python",
   "name": "python3"
  },
  "language_info": {
   "codemirror_mode": {
    "name": "ipython",
    "version": 3
   },
   "file_extension": ".py",
   "mimetype": "text/x-python",
   "name": "python",
   "nbconvert_exporter": "python",
   "pygments_lexer": "ipython3",
   "version": "3.6.2"
  }
 },
 "nbformat": 4,
 "nbformat_minor": 2
}
