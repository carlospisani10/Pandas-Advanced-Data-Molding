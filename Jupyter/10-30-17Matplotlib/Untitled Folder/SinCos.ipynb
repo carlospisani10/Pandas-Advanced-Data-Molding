{
 "cells": [
  {
   "cell_type": "code",
   "execution_count": 9,
   "metadata": {
    "collapsed": true
   },
   "outputs": [],
   "source": [
    "# Import Numpy for calculations and matplotlib for charting\n",
    "import numpy as np\n",
    "import matplotlib.pyplot as plt"
   ]
  },
  {
   "cell_type": "code",
   "execution_count": 11,
   "metadata": {},
   "outputs": [
    {
     "data": {
      "text/plain": [
       "array([ 0. ,  0.1,  0.2,  0.3,  0.4,  0.5,  0.6,  0.7,  0.8,  0.9,  1. ,\n",
       "        1.1,  1.2,  1.3,  1.4,  1.5,  1.6,  1.7,  1.8,  1.9,  2. ,  2.1,\n",
       "        2.2,  2.3,  2.4,  2.5,  2.6,  2.7,  2.8,  2.9,  3. ,  3.1,  3.2,\n",
       "        3.3,  3.4,  3.5,  3.6,  3.7,  3.8,  3.9,  4. ,  4.1,  4.2,  4.3,\n",
       "        4.4,  4.5,  4.6,  4.7,  4.8,  4.9,  5. ,  5.1,  5.2,  5.3,  5.4,\n",
       "        5.5,  5.6,  5.7,  5.8,  5.9])"
      ]
     },
     "execution_count": 11,
     "metadata": {},
     "output_type": "execute_result"
    }
   ],
   "source": [
    "# Create our x_axis list\n",
    "x_values = np.arange(0, 6, 0.1)\n",
    "x_values"
   ]
  },
  {
   "cell_type": "code",
   "execution_count": 12,
   "metadata": {},
   "outputs": [
    {
     "data": {
      "text/plain": [
       "[0.0,\n",
       " 0.099833416646828155,\n",
       " 0.19866933079506122,\n",
       " 0.2955202066613396,\n",
       " 0.38941834230865052,\n",
       " 0.47942553860420301,\n",
       " 0.56464247339503548,\n",
       " 0.64421768723769113,\n",
       " 0.71735609089952279,\n",
       " 0.7833269096274833,\n",
       " 0.8414709848078965,\n",
       " 0.89120736006143542,\n",
       " 0.9320390859672264,\n",
       " 0.96355818541719296,\n",
       " 0.98544972998846025,\n",
       " 0.99749498660405445,\n",
       " 0.99957360304150511,\n",
       " 0.99166481045246857,\n",
       " 0.97384763087819515,\n",
       " 0.94630008768741447,\n",
       " 0.90929742682568171,\n",
       " 0.86320936664887382,\n",
       " 0.80849640381959009,\n",
       " 0.74570521217672003,\n",
       " 0.67546318055115062,\n",
       " 0.59847214410395644,\n",
       " 0.51550137182146416,\n",
       " 0.42737988023382978,\n",
       " 0.33498815015590466,\n",
       " 0.23924932921398198,\n",
       " 0.14112000805986721,\n",
       " 0.041580662433290491,\n",
       " -0.058374143427580086,\n",
       " -0.15774569414324865,\n",
       " -0.25554110202683167,\n",
       " -0.35078322768961984,\n",
       " -0.44252044329485246,\n",
       " -0.5298361409084934,\n",
       " -0.61185789094271925,\n",
       " -0.6877661591839741,\n",
       " -0.7568024953079282,\n",
       " -0.81827711106441081,\n",
       " -0.87157577241358808,\n",
       " -0.9161659367494549,\n",
       " -0.95160207388951612,\n",
       " -0.97753011766509701,\n",
       " -0.99369100363346452,\n",
       " -0.99992325756410083,\n",
       " -0.99616460883584057,\n",
       " -0.98245261262433248,\n",
       " -0.95892427466313845,\n",
       " -0.92581468232773212,\n",
       " -0.88345465572015314,\n",
       " -0.83226744222390081,\n",
       " -0.77276448755598715,\n",
       " -0.70554032557039192,\n",
       " -0.63126663787232085,\n",
       " -0.55068554259763758,\n",
       " -0.46460217941375659,\n",
       " -0.37387666483023602]"
      ]
     },
     "execution_count": 12,
     "metadata": {},
     "output_type": "execute_result"
    }
   ],
   "source": [
    "# Creates a list based on the sin of our x_axis values\n",
    "sin = [np.sin(num) for num in x_values]\n",
    "sin"
   ]
  },
  {
   "cell_type": "code",
   "execution_count": 13,
   "metadata": {},
   "outputs": [
    {
     "data": {
      "text/plain": [
       "array([ 1.        ,  0.99500417,  0.98006658,  0.95533649,  0.92106099,\n",
       "        0.87758256,  0.82533561,  0.76484219,  0.69670671,  0.62160997,\n",
       "        0.54030231,  0.45359612,  0.36235775,  0.26749883,  0.16996714,\n",
       "        0.0707372 , -0.02919952, -0.12884449, -0.22720209, -0.32328957,\n",
       "       -0.41614684, -0.5048461 , -0.58850112, -0.66627602, -0.73739372,\n",
       "       -0.80114362, -0.85688875, -0.90407214, -0.94222234, -0.97095817,\n",
       "       -0.9899925 , -0.99913515, -0.99829478, -0.98747977, -0.96679819,\n",
       "       -0.93645669, -0.89675842, -0.84810003, -0.79096771, -0.7259323 ,\n",
       "       -0.65364362, -0.57482395, -0.49026082, -0.40079917, -0.30733287,\n",
       "       -0.2107958 , -0.11215253, -0.01238866,  0.08749898,  0.18651237,\n",
       "        0.28366219,  0.37797774,  0.46851667,  0.55437434,  0.63469288,\n",
       "        0.70866977,  0.77556588,  0.83471278,  0.88551952,  0.92747843])"
      ]
     },
     "execution_count": 13,
     "metadata": {},
     "output_type": "execute_result"
    }
   ],
   "source": [
    "# Creates a list based on the cos of our x_axis values\n",
    "cos = np.cos(x_values)\n",
    "cos"
   ]
  },
  {
   "cell_type": "code",
   "execution_count": 14,
   "metadata": {},
   "outputs": [
    {
     "data": {
      "image/png": "[encoded data removed]",
      "text/plain": [
       "<matplotlib.figure.Figure at 0x1156c8cc0>"
      ]
     },
     "metadata": {},
     "output_type": "display_data"
    }
   ],
   "source": [
    "# Plot both of these lines so that they will appear on our final chart\n",
    "plt.plot(x_values, sin)\n",
    "plt.plot(x_values, cos)\n",
    "\n",
    "plt.show()"
   ]
  },
  {
   "cell_type": "code",
   "execution_count": null,
   "metadata": {
    "collapsed": true
   },
   "outputs": [],
   "source": []
  }
 ],
 "metadata": {
  "anaconda-cloud": {},
  "kernelspec": {
   "display_name": "Python 3",
   "language": "python",
   "name": "python3"
  },
  "language_info": {
   "codemirror_mode": {
    "name": "ipython",
    "version": 3
   },
   "file_extension": ".py",
   "mimetype": "text/x-python",
   "name": "python",
   "nbconvert_exporter": "python",
   "pygments_lexer": "ipython3",
   "version": "3.6.2"
  }
 },
 "nbformat": 4,
 "nbformat_minor": 2
}
