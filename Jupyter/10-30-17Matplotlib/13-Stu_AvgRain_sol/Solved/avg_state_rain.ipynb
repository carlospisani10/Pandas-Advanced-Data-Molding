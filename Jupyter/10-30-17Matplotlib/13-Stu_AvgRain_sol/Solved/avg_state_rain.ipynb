{
 "cells": [
  {
   "cell_type": "code",
   "execution_count": 1,
   "metadata": {
    "collapsed": true
   },
   "outputs": [],
   "source": [
    "# Dependencies\n",
    "import matplotlib.pyplot as plt\n",
    "import numpy as np\n",
    "import pandas as pd\n",
    "import os"
   ]
  },
  {
   "cell_type": "code",
   "execution_count": 2,
   "metadata": {},
   "outputs": [
    {
     "data": {
      "text/html": [
       "<div>\n",
       "<style>\n",
       "    .dataframe thead tr:only-child th {\n",
       "        text-align: right;\n",
       "    }\n",
       "\n",
       "    .dataframe thead th {\n",
       "        text-align: left;\n",
       "    }\n",
       "\n",
       "    .dataframe tbody tr th {\n",
       "        vertical-align: top;\n",
       "    }\n",
       "</style>\n",
       "<table border=\"1\" class=\"dataframe\">\n",
       "  <thead>\n",
       "    <tr style=\"text-align: right;\">\n",
       "      <th></th>\n",
       "      <th>State</th>\n",
       "      <th>Inches</th>\n",
       "      <th>Milli­metres</th>\n",
       "      <th>Rank</th>\n",
       "    </tr>\n",
       "  </thead>\n",
       "  <tbody>\n",
       "    <tr>\n",
       "      <th>0</th>\n",
       "      <td>Alabama</td>\n",
       "      <td>58.3</td>\n",
       "      <td>1480</td>\n",
       "      <td>4</td>\n",
       "    </tr>\n",
       "    <tr>\n",
       "      <th>1</th>\n",
       "      <td>Alaska</td>\n",
       "      <td>22.5</td>\n",
       "      <td>572</td>\n",
       "      <td>39</td>\n",
       "    </tr>\n",
       "    <tr>\n",
       "      <th>2</th>\n",
       "      <td>Arizona</td>\n",
       "      <td>13.6</td>\n",
       "      <td>345</td>\n",
       "      <td>47</td>\n",
       "    </tr>\n",
       "    <tr>\n",
       "      <th>3</th>\n",
       "      <td>Arkansas</td>\n",
       "      <td>50.6</td>\n",
       "      <td>1284</td>\n",
       "      <td>8</td>\n",
       "    </tr>\n",
       "    <tr>\n",
       "      <th>4</th>\n",
       "      <td>California</td>\n",
       "      <td>22.2</td>\n",
       "      <td>563</td>\n",
       "      <td>40</td>\n",
       "    </tr>\n",
       "  </tbody>\n",
       "</table>\n",
       "</div>"
      ],
      "text/plain": [
       "        State  Inches  Milli­metres  Rank\n",
       "0     Alabama    58.3          1480     4\n",
       "1      Alaska    22.5           572    39\n",
       "2     Arizona    13.6           345    47\n",
       "3    Arkansas    50.6          1284     8\n",
       "4  California    22.2           563    40"
      ]
     },
     "execution_count": 2,
     "metadata": {},
     "output_type": "execute_result"
    }
   ],
   "source": [
    "# Load in csv\n",
    "filepath = os.path.join(\"..\", \"Resources\", \"avg_rain_state.csv\")\n",
    "rain_df = pd.read_csv(filepath)\n",
    "rain_df.head()"
   ]
  },
  {
   "cell_type": "code",
   "execution_count": 3,
   "metadata": {
    "collapsed": true
   },
   "outputs": [],
   "source": [
    "# Set x axis and tick locations\n",
    "x_axis = np.arange(len(rain_df))\n",
    "tick_locations = [value+0.4 for value in x_axis]"
   ]
  },
  {
   "cell_type": "code",
   "execution_count": 4,
   "metadata": {},
   "outputs": [
    {
     "data": {
      "text/plain": [
       "([<matplotlib.axis.XTick at 0x10a246630>,\n",
       "  <matplotlib.axis.XTick at 0x10a266470>,\n",
       "  <matplotlib.axis.XTick at 0x10a254780>,\n",
       "  <matplotlib.axis.XTick at 0x10f59f0b8>,\n",
       "  <matplotlib.axis.XTick at 0x10f59fa90>,\n",
       "  <matplotlib.axis.XTick at 0x10f5a74a8>,\n",
       "  <matplotlib.axis.XTick at 0x10f5a7e80>,\n",
       "  <matplotlib.axis.XTick at 0x10f5ac898>,\n",
       "  <matplotlib.axis.XTick at 0x10f5b52b0>,\n",
       "  <matplotlib.axis.XTick at 0x10f5b5c88>,\n",
       "  <matplotlib.axis.XTick at 0x10f5ba6a0>,\n",
       "  <matplotlib.axis.XTick at 0x10f5c10b8>,\n",
       "  <matplotlib.axis.XTick at 0x10f5c1a90>,\n",
       "  <matplotlib.axis.XTick at 0x10f5c74a8>,\n",
       "  <matplotlib.axis.XTick at 0x10f5c7e80>,\n",
       "  <matplotlib.axis.XTick at 0x10f5cd898>,\n",
       "  <matplotlib.axis.XTick at 0x10f5d42b0>,\n",
       "  <matplotlib.axis.XTick at 0x10f5d4c88>,\n",
       "  <matplotlib.axis.XTick at 0x10f5db6a0>,\n",
       "  <matplotlib.axis.XTick at 0x10f5e10b8>,\n",
       "  <matplotlib.axis.XTick at 0x10f5e1a90>,\n",
       "  <matplotlib.axis.XTick at 0x10f5e84a8>,\n",
       "  <matplotlib.axis.XTick at 0x10f5e8e80>,\n",
       "  <matplotlib.axis.XTick at 0x10f5ed898>,\n",
       "  <matplotlib.axis.XTick at 0x10f5f52b0>,\n",
       "  <matplotlib.axis.XTick at 0x10f5f5c88>,\n",
       "  <matplotlib.axis.XTick at 0x10f5fd6a0>,\n",
       "  <matplotlib.axis.XTick at 0x10f6020b8>,\n",
       "  <matplotlib.axis.XTick at 0x10f602a90>,\n",
       "  <matplotlib.axis.XTick at 0x10f60a4a8>,\n",
       "  <matplotlib.axis.XTick at 0x10f60ae80>,\n",
       "  <matplotlib.axis.XTick at 0x10f611898>,\n",
       "  <matplotlib.axis.XTick at 0x10f6172b0>,\n",
       "  <matplotlib.axis.XTick at 0x10f617c88>,\n",
       "  <matplotlib.axis.XTick at 0x10f61e6a0>,\n",
       "  <matplotlib.axis.XTick at 0x10f6240b8>,\n",
       "  <matplotlib.axis.XTick at 0x10f624a90>,\n",
       "  <matplotlib.axis.XTick at 0x10f62b4a8>,\n",
       "  <matplotlib.axis.XTick at 0x10f62be80>,\n",
       "  <matplotlib.axis.XTick at 0x10f633898>,\n",
       "  <matplotlib.axis.XTick at 0x10f6392b0>,\n",
       "  <matplotlib.axis.XTick at 0x10f639c88>,\n",
       "  <matplotlib.axis.XTick at 0x10f63f6a0>,\n",
       "  <matplotlib.axis.XTick at 0x10f6450b8>,\n",
       "  <matplotlib.axis.XTick at 0x10f645a90>,\n",
       "  <matplotlib.axis.XTick at 0x10f64c4a8>,\n",
       "  <matplotlib.axis.XTick at 0x10f64ce80>,\n",
       "  <matplotlib.axis.XTick at 0x10f652898>,\n",
       "  <matplotlib.axis.XTick at 0x10f6582b0>,\n",
       "  <matplotlib.axis.XTick at 0x10f658c88>],\n",
       " <a list of 50 Text xticklabel objects>)"
      ]
     },
     "execution_count": 4,
     "metadata": {},
     "output_type": "execute_result"
    }
   ],
   "source": [
    "# Create a list indicating where to write x labels and set figure size to adjust for space\n",
    "plt.figure(figsize=(20,3))\n",
    "plt.bar(x_axis, rain_df[\"Inches\"], color='r', alpha=0.5, align=\"edge\")\n",
    "plt.xticks(tick_locations, rain_df[\"State\"], rotation=\"vertical\")"
   ]
  },
  {
   "cell_type": "code",
   "execution_count": 5,
   "metadata": {},
   "outputs": [
    {
     "data": {
      "text/plain": [
       "(0, 73.700000000000003)"
      ]
     },
     "execution_count": 5,
     "metadata": {},
     "output_type": "execute_result"
    }
   ],
   "source": [
    "# Set x and y limits\n",
    "plt.xlim(-0.25, len(x_axis))\n",
    "plt.ylim(0, max(rain_df[\"Inches\"])+10)"
   ]
  },
  {
   "cell_type": "code",
   "execution_count": 6,
   "metadata": {},
   "outputs": [
    {
     "data": {
      "text/plain": [
       "<matplotlib.text.Text at 0x10a2594a8>"
      ]
     },
     "execution_count": 6,
     "metadata": {},
     "output_type": "execute_result"
    }
   ],
   "source": [
    "# Set a Title and labels\n",
    "plt.title(\"Average Rain per State\")\n",
    "plt.xlabel(\"State\")\n",
    "plt.ylabel(\"Average Amount of Rainfall in Inches\")"
   ]
  },
  {
   "cell_type": "code",
   "execution_count": 7,
   "metadata": {},
   "outputs": [
    {
     "data": {
      "image/png": "[encoded data removed]",
      "text/plain": [
       "<matplotlib.figure.Figure at 0x10a1f4550>"
      ]
     },
     "metadata": {},
     "output_type": "display_data"
    }
   ],
   "source": [
    "# Save our graph and show the grap\n",
    "plt.tight_layout()\n",
    "plt.savefig(\"avg_state_rain.png\")\n",
    "plt.show()"
   ]
  },
  {
   "cell_type": "code",
   "execution_count": null,
   "metadata": {},
   "outputs": [],
   "source": []
  },
  {
   "cell_type": "code",
   "execution_count": null,
   "metadata": {},
   "outputs": [],
   "source": []
  }
 ],
 "metadata": {
  "kernel_info": {
   "name": "python3"
  },
  "kernelspec": {
   "display_name": "Python 3",
   "language": "python",
   "name": "python3"
  },
  "language_info": {
   "codemirror_mode": {
    "name": "ipython",
    "version": 3
   },
   "file_extension": ".py",
   "mimetype": "text/x-python",
   "name": "python",
   "nbconvert_exporter": "python",
   "pygments_lexer": "ipython3",
   "version": "3.6.2"
  },
  "nteract": {
   "version": "0.2.0"
  }
 },
 "nbformat": 4,
 "nbformat_minor": 2
}
