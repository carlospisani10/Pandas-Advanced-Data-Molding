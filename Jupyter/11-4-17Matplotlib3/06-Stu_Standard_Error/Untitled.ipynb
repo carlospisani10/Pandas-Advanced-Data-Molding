{
 "cells": [
  {
   "cell_type": "code",
   "execution_count": 2,
   "metadata": {
    "collapsed": true
   },
   "outputs": [],
   "source": [
    "import matplotlib.pyplot as plt\n",
    "import numpy as np\n",
    "import pandas as pd\n",
    "from scipy.stats import sem"
   ]
  },
  {
   "cell_type": "code",
   "execution_count": 7,
   "metadata": {},
   "outputs": [
    {
     "data": {
      "text/html": [
       "<div>\n",
       "<style>\n",
       "    .dataframe thead tr:only-child th {\n",
       "        text-align: right;\n",
       "    }\n",
       "\n",
       "    .dataframe thead th {\n",
       "        text-align: left;\n",
       "    }\n",
       "\n",
       "    .dataframe tbody tr th {\n",
       "        vertical-align: top;\n",
       "    }\n",
       "</style>\n",
       "<table border=\"1\" class=\"dataframe\">\n",
       "  <thead>\n",
       "    <tr style=\"text-align: right;\">\n",
       "      <th></th>\n",
       "      <th>0.00632</th>\n",
       "      <th>18.00</th>\n",
       "      <th>2.310</th>\n",
       "      <th>0</th>\n",
       "      <th>0.5380</th>\n",
       "      <th>6.5750</th>\n",
       "      <th>65.20</th>\n",
       "      <th>4.0900</th>\n",
       "      <th>1</th>\n",
       "      <th>296.0</th>\n",
       "      <th>15.30</th>\n",
       "      <th>396.90</th>\n",
       "      <th>4.98</th>\n",
       "      <th>24.00</th>\n",
       "    </tr>\n",
       "  </thead>\n",
       "  <tbody>\n",
       "    <tr>\n",
       "      <th>0</th>\n",
       "      <td>3.32105</td>\n",
       "      <td>0.0</td>\n",
       "      <td>19.58</td>\n",
       "      <td>1</td>\n",
       "      <td>0.871</td>\n",
       "      <td>5.403</td>\n",
       "      <td>100.0</td>\n",
       "      <td>1.3216</td>\n",
       "      <td>5</td>\n",
       "      <td>403.0</td>\n",
       "      <td>14.7</td>\n",
       "      <td>396.90</td>\n",
       "      <td>26.82</td>\n",
       "      <td>13.4</td>\n",
       "    </tr>\n",
       "    <tr>\n",
       "      <th>1</th>\n",
       "      <td>0.03659</td>\n",
       "      <td>25.0</td>\n",
       "      <td>4.86</td>\n",
       "      <td>0</td>\n",
       "      <td>0.426</td>\n",
       "      <td>6.302</td>\n",
       "      <td>32.2</td>\n",
       "      <td>5.4007</td>\n",
       "      <td>4</td>\n",
       "      <td>281.0</td>\n",
       "      <td>19.0</td>\n",
       "      <td>396.90</td>\n",
       "      <td>6.72</td>\n",
       "      <td>24.8</td>\n",
       "    </tr>\n",
       "    <tr>\n",
       "      <th>2</th>\n",
       "      <td>0.53412</td>\n",
       "      <td>20.0</td>\n",
       "      <td>3.97</td>\n",
       "      <td>0</td>\n",
       "      <td>0.647</td>\n",
       "      <td>7.520</td>\n",
       "      <td>89.4</td>\n",
       "      <td>2.1398</td>\n",
       "      <td>5</td>\n",
       "      <td>264.0</td>\n",
       "      <td>13.0</td>\n",
       "      <td>388.37</td>\n",
       "      <td>7.26</td>\n",
       "      <td>43.1</td>\n",
       "    </tr>\n",
       "    <tr>\n",
       "      <th>3</th>\n",
       "      <td>7.36711</td>\n",
       "      <td>0.0</td>\n",
       "      <td>18.10</td>\n",
       "      <td>0</td>\n",
       "      <td>0.679</td>\n",
       "      <td>6.193</td>\n",
       "      <td>78.1</td>\n",
       "      <td>1.9356</td>\n",
       "      <td>24</td>\n",
       "      <td>666.0</td>\n",
       "      <td>20.2</td>\n",
       "      <td>96.73</td>\n",
       "      <td>21.52</td>\n",
       "      <td>11.0</td>\n",
       "    </tr>\n",
       "    <tr>\n",
       "      <th>4</th>\n",
       "      <td>0.12329</td>\n",
       "      <td>0.0</td>\n",
       "      <td>10.01</td>\n",
       "      <td>0</td>\n",
       "      <td>0.547</td>\n",
       "      <td>5.913</td>\n",
       "      <td>92.9</td>\n",
       "      <td>2.3534</td>\n",
       "      <td>6</td>\n",
       "      <td>432.0</td>\n",
       "      <td>17.8</td>\n",
       "      <td>394.95</td>\n",
       "      <td>16.21</td>\n",
       "      <td>18.8</td>\n",
       "    </tr>\n",
       "  </tbody>\n",
       "</table>\n",
       "</div>"
      ],
      "text/plain": [
       "   0.00632  18.00  2.310  0  0.5380  6.5750  65.20  4.0900   1  296.0  15.30  \\\n",
       "0  3.32105    0.0  19.58  1   0.871   5.403  100.0  1.3216   5  403.0   14.7   \n",
       "1  0.03659   25.0   4.86  0   0.426   6.302   32.2  5.4007   4  281.0   19.0   \n",
       "2  0.53412   20.0   3.97  0   0.647   7.520   89.4  2.1398   5  264.0   13.0   \n",
       "3  7.36711    0.0  18.10  0   0.679   6.193   78.1  1.9356  24  666.0   20.2   \n",
       "4  0.12329    0.0  10.01  0   0.547   5.913   92.9  2.3534   6  432.0   17.8   \n",
       "\n",
       "   396.90   4.98  24.00  \n",
       "0  396.90  26.82   13.4  \n",
       "1  396.90   6.72   24.8  \n",
       "2  388.37   7.26   43.1  \n",
       "3   96.73  21.52   11.0  \n",
       "4  394.95  16.21   18.8  "
      ]
     },
     "execution_count": 7,
     "metadata": {},
     "output_type": "execute_result"
    }
   ],
   "source": [
    "housing_data = pd.read_csv(\"Resources/housing_data.csv\")\n",
    "housing_data = housing_data.sample(frac=1).reset_index(drop=True)\n",
    "housing_data.head()"
   ]
  },
  {
   "cell_type": "code",
   "execution_count": 14,
   "metadata": {},
   "outputs": [],
   "source": [
    "# Create a bunch of samples, each with div items\n",
    "div = 20\n",
    "lim = len(housing_data) // div\n",
    "samples = [housing_data.iloc[(i * div):(i * div + div), 13]\n",
    "           for i in range(0, lim)]\n",
    "x_axis = np.arange(0, len(samples), 1)\n"
   ]
  },
  {
   "cell_type": "code",
   "execution_count": 15,
   "metadata": {},
   "outputs": [],
   "source": [
    "means = [np.mean(s) for s in samples]\n",
    "standard_errors = [sem(s) for s in samples]\n"
   ]
  },
  {
   "cell_type": "code",
   "execution_count": 16,
   "metadata": {},
   "outputs": [
    {
     "data": {
      "text/plain": [
       "<Container object of 3 artists>"
      ]
     },
     "execution_count": 16,
     "metadata": {},
     "output_type": "execute_result"
    }
   ],
   "source": [
    "# Setting up the plot\n",
    "plt.errorbar(x_axis, means, yerr=standard_errors, fmt=\"o\")"
   ]
  },
  {
   "cell_type": "code",
   "execution_count": 17,
   "metadata": {},
   "outputs": [
    {
     "data": {
      "image/png": "[encoded data removed]",
      "text/plain": [
       "<matplotlib.figure.Figure at 0x265b5425240>"
      ]
     },
     "metadata": {},
     "output_type": "display_data"
    }
   ],
   "source": [
    "plt.xlim(-1, len(samples) + 1)\n",
    "\n",
    "plt.xlabel(\"Sample Number\")\n",
    "plt.ylabel(\"Mean of Median Home Prices\")\n",
    "plt.show()"
   ]
  },
  {
   "cell_type": "code",
   "execution_count": null,
   "metadata": {
    "collapsed": true
   },
   "outputs": [],
   "source": []
  }
 ],
 "metadata": {
  "kernelspec": {
   "display_name": "Python 3",
   "language": "python",
   "name": "python3"
  },
  "language_info": {
   "codemirror_mode": {
    "name": "ipython",
    "version": 3
   },
   "file_extension": ".py",
   "mimetype": "text/x-python",
   "name": "python",
   "nbconvert_exporter": "python",
   "pygments_lexer": "ipython3",
   "version": "3.6.2"
  }
 },
 "nbformat": 4,
 "nbformat_minor": 2
}
